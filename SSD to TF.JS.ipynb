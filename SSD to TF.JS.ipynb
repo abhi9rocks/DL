{
 "cells": [
  {
   "cell_type": "code",
   "execution_count": null,
   "id": "584041e3",
   "metadata": {},
   "outputs": [],
   "source": [
    "#before running the cells in the directory \n",
    "#\"D:\\TFJS Custom\\Tensorflow\\workspace\\models\\my_ssd_mobnet\" \n",
    "#create two folders export and converted in the export folder paste the frozen inference graph pb file \n",
    "#and name it as 'saved_model/saved_model.pb'"
   ]
  },
  {
   "cell_type": "code",
   "execution_count": null,
   "id": "583164c0",
   "metadata": {},
   "outputs": [],
   "source": [
    "!pip install tensorflowjs"
   ]
  },
  {
   "cell_type": "code",
   "execution_count": null,
   "id": "95adc960",
   "metadata": {},
   "outputs": [],
   "source": [
    "\"\"\"tensorflowjs_converter --input_format=tf_saved_model --output_node_names='detection_boxes,detection_classes,detection_features,detection_multiclass_scores,detection_scores,num_detections,raw_detection_boxes,raw_detection_scores' --output_format=tfjs_graph_model --signature_name=serving_default {}export/saved_model {}converted\"\"\".format(CHECKPOINT_PATH, CHECKPOINT_PATH)"
   ]
  }
 ],
 "metadata": {
  "kernelspec": {
   "display_name": "ssd",
   "language": "python",
   "name": "ssd"
  },
  "language_info": {
   "codemirror_mode": {
    "name": "ipython",
    "version": 3
   },
   "file_extension": ".py",
   "mimetype": "text/x-python",
   "name": "python",
   "nbconvert_exporter": "python",
   "pygments_lexer": "ipython3",
   "version": "3.6.13"
  }
 },
 "nbformat": 4,
 "nbformat_minor": 5
}
