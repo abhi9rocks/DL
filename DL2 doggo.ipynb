{
  "nbformat": 4,
  "nbformat_minor": 0,
  "metadata": {
    "colab": {
      "name": "Untitled2.ipynb",
      "provenance": [],
      "mount_file_id": "17QQ1BlqEqoGbH6bAz6YMxDpO3ZdfGqCI",
      "authorship_tag": "ABX9TyO3yrBsaTTcmPLAwa0R+ZGv",
      "include_colab_link": true
    },
    "kernelspec": {
      "name": "python3",
      "display_name": "Python 3"
    }
  },
  "cells": [
    {
      "cell_type": "markdown",
      "metadata": {
        "id": "view-in-github",
        "colab_type": "text"
      },
      "source": [
        "<a href=\"https://colab.research.google.com/github/abhi9rocks/DL/blob/master/DL2%20doggo.ipynb\" target=\"_parent\"><img src=\"https://colab.research.google.com/assets/colab-badge.svg\" alt=\"Open In Colab\"/></a>"
      ]
    },
    {
      "cell_type": "code",
      "metadata": {
        "id": "UiwFuA8x7aLm",
        "colab_type": "code",
        "colab": {
          "base_uri": "https://localhost:8080/",
          "height": 34
        },
        "outputId": "cc9eb7dc-183d-421c-d0ac-f90eaf0c0363"
      },
      "source": [
        "from google.colab import drive\n",
        "drive.mount('/content/drive')"
      ],
      "execution_count": 31,
      "outputs": [
        {
          "output_type": "stream",
          "text": [
            "Drive already mounted at /content/drive; to attempt to forcibly remount, call drive.mount(\"/content/drive\", force_remount=True).\n"
          ],
          "name": "stdout"
        }
      ]
    },
    {
      "cell_type": "code",
      "metadata": {
        "id": "yH8H5KJB8zCw",
        "colab_type": "code",
        "colab": {}
      },
      "source": [
        "import os\n",
        "from os.path import join\n",
        "\n",
        "\n",
        "#hot_dog_image_dir = '../input/hot-dog-not-hot-dog/seefood/train/hot_dog'\n",
        "\n",
        "#hot_dog_paths = [join(hot_dog_image_dir,filename) for filename in \n",
        "  #                          ['1000288.jpg',\n",
        "  #                           '127117.jpg']]\n",
        "\n",
        "#not_hot_dog_image_dir = '../input/hot-dog-not-hot-dog/seefood/train/not_hot_dog'\n",
        "#not_hot_dog_paths = [join(not_hot_dog_image_dir, filename) for filename in\n",
        " #                           ['823536.jpg',\n",
        "  #                           '99890.jpg']]\n",
        "\n",
        "#img_paths = hot_dog_paths + not_hot_dog_paths"
      ],
      "execution_count": 0,
      "outputs": []
    },
    {
      "cell_type": "code",
      "metadata": {
        "id": "87d3-Iam80B8",
        "colab_type": "code",
        "colab": {
          "base_uri": "https://localhost:8080/",
          "height": 50
        },
        "outputId": "196c1f48-62c8-4a7c-a03d-ae7fa7c11a37"
      },
      "source": [
        "cd drive/My\\ Drive/pics"
      ],
      "execution_count": 33,
      "outputs": [
        {
          "output_type": "stream",
          "text": [
            "[Errno 2] No such file or directory: 'drive/My Drive/pics'\n",
            "/content/drive/My Drive/pics\n"
          ],
          "name": "stdout"
        }
      ]
    },
    {
      "cell_type": "code",
      "metadata": {
        "id": "x2Zso-vT9Pf7",
        "colab_type": "code",
        "colab": {
          "base_uri": "https://localhost:8080/",
          "height": 50
        },
        "outputId": "3e56e1f2-0e7e-4b62-e288-f4713932a070"
      },
      "source": [
        "ls"
      ],
      "execution_count": 34,
      "outputs": [
        {
          "output_type": "stream",
          "text": [
            "'doggo 2.jpg'  'doggo 4.jpg'   IMG_20191004_184933488.jpg\n",
            "'doggo 3.jpg'   doggo.jpg\n"
          ],
          "name": "stdout"
        }
      ]
    },
    {
      "cell_type": "code",
      "metadata": {
        "id": "1fMkbqNj9v0v",
        "colab_type": "code",
        "colab": {}
      },
      "source": [
        "img_paths=['doggo 4.jpg']"
      ],
      "execution_count": 0,
      "outputs": []
    },
    {
      "cell_type": "code",
      "metadata": {
        "id": "J1i0P61t9_Z3",
        "colab_type": "code",
        "colab": {}
      },
      "source": [
        "from IPython.display import Image, display\n",
        "from keras.applications.resnet50 import preprocess_input, decode_predictions\n",
        "#from learntools.deep_learning.decode_predictions import decode_predictions\n",
        "import numpy as np\n",
        "from tensorflow.keras.applications.resnet50 import preprocess_input\n",
        "from tensorflow.keras.applications import ResNet50\n",
        "from tensorflow.keras.preprocessing.image import load_img, img_to_array"
      ],
      "execution_count": 0,
      "outputs": []
    },
    {
      "cell_type": "code",
      "metadata": {
        "id": "068jsQgK-P5q",
        "colab_type": "code",
        "colab": {}
      },
      "source": [
        "image_size = 224\n",
        "\n",
        "def read_and_prep_images(img_paths, img_height=image_size, img_width=image_size):\n",
        "    imgs = [load_img(img_path, target_size=(img_height, img_width)) for img_path in img_paths]\n",
        "    img_array = np.array([img_to_array(img) for img in imgs])\n",
        "    output = preprocess_input(img_array)\n",
        "    return(output)\n",
        "\n",
        "\n",
        "my_model = ResNet50(weights='imagenet')\n",
        "test_data = read_and_prep_images(img_paths)\n",
        "preds = my_model.predict(test_data)\n",
        "\n",
        "most_likely_labels = decode_predictions(preds, top=3)[0]"
      ],
      "execution_count": 0,
      "outputs": []
    },
    {
      "cell_type": "code",
      "metadata": {
        "id": "u9bRPBjf-RIt",
        "colab_type": "code",
        "colab": {
          "base_uri": "https://localhost:8080/",
          "height": 507
        },
        "outputId": "9a678357-fa98-4126-9d64-04eb61342e31"
      },
      "source": [
        "for i, img_path in enumerate(img_paths):\n",
        "    display(Image(img_path))\n",
        "    print(most_likely_labels[i])"
      ],
      "execution_count": 48,
      "outputs": [
        {
          "output_type": "display_data",
          "data": {
            "image/jpeg": "[encoded data removed]",
            "text/plain": [
              "<IPython.core.display.Image object>"
            ]
          },
          "metadata": {
            "tags": []
          }
        },
        {
          "output_type": "stream",
          "text": [
            "('n02099712', 'Labrador_retriever', 0.99131376)\n"
          ],
          "name": "stdout"
        }
      ]
    },
    {
      "cell_type": "code",
      "metadata": {
        "id": "hWRle6P0-U_9",
        "colab_type": "code",
        "colab": {
          "base_uri": "https://localhost:8080/",
          "height": 67
        },
        "outputId": "95c74734-8a1a-4522-be87-c9c6331ba27d"
      },
      "source": [
        "most_likely_labels"
      ],
      "execution_count": 49,
      "outputs": [
        {
          "output_type": "execute_result",
          "data": {
            "text/plain": [
              "[('n02099712', 'Labrador_retriever', 0.99131376),\n",
              " ('n02099601', 'golden_retriever', 0.005707628),\n",
              " ('n02108422', 'bull_mastiff', 0.0007880731)]"
            ]
          },
          "metadata": {
            "tags": []
          },
          "execution_count": 49
        }
      ]
    },
    {
      "cell_type": "code",
      "metadata": {
        "id": "7fNYGiz0-bn2",
        "colab_type": "code",
        "colab": {}
      },
      "source": [
        ""
      ],
      "execution_count": 0,
      "outputs": []
    }
  ]
}