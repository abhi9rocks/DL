{
  "nbformat": 4,
  "nbformat_minor": 0,
  "metadata": {
    "colab": {
      "name": "fileRename.ipynb",
      "provenance": [],
      "include_colab_link": true
    },
    "kernelspec": {
      "name": "python3",
      "display_name": "Python 3"
    },
    "language_info": {
      "name": "python"
    }
  },
  "cells": [
    {
      "cell_type": "markdown",
      "metadata": {
        "id": "view-in-github",
        "colab_type": "text"
      },
      "source": [
        "<a href=\"https://colab.research.google.com/github/abhi9rocks/DL/blob/master/fileRename.ipynb\" target=\"_parent\"><img src=\"https://colab.research.google.com/assets/colab-badge.svg\" alt=\"Open In Colab\"/></a>"
      ]
    },
    {
      "cell_type": "code",
      "metadata": {
        "id": "bjPfhH6j3ZsD"
      },
      "source": [
        "arr = '2021-06-15 16_08_34.9233360.txt'\n",
        "a = '/content/2021-06-15 16:08:34.9233360.txt'"
      ],
      "execution_count": null,
      "outputs": []
    },
    {
      "cell_type": "code",
      "metadata": {
        "id": "I4zyUXjr2mXd"
      },
      "source": [
        "import os\n",
        "#os.rename('/content/2021-06-15 16_08_34.9233360.txt','/content/2021-06-15 16:08:34.9233360.txt')"
      ],
      "execution_count": null,
      "outputs": []
    },
    {
      "cell_type": "code",
      "metadata": {
        "id": "140RoxzE3kX-"
      },
      "source": [
        "path = '/content/annotations'\n",
        "for file in os.listdir(path):\n",
        "  print(file)\n",
        "  a = file.replace(\"_\",\":\")\n",
        "  print(a)\n",
        "  os.rename('{}/{}'.format(path,file),'{}/{}'.format(path,a))\n"
      ],
      "execution_count": null,
      "outputs": []
    },
    {
      "cell_type": "code",
      "metadata": {
        "id": "5JOXGR4o-EzD"
      },
      "source": [
        "import os"
      ],
      "execution_count": null,
      "outputs": []
    },
    {
      "cell_type": "code",
      "metadata": {
        "id": "OpyGdy5FpPbx"
      },
      "source": [
        "!unrar e '/content/drive/MyDrive/ocr_annotations/annotations.rar' '/content/annotations'"
      ],
      "execution_count": null,
      "outputs": []
    },
    {
      "cell_type": "code",
      "metadata": {
        "id": "JBeFLzFN_YJm"
      },
      "source": [
        "path = \"/content/annotations\"\n",
        "for file in os.listdir(\"/content/annotations\"):\n",
        "  a = file.replace(\"_\",\":\")\n",
        "  os.rename('{}/{}'.format(path,file), \"{}/{}\".format(path,a))"
      ],
      "execution_count": null,
      "outputs": []
    },
    {
      "cell_type": "code",
      "metadata": {
        "colab": {
          "base_uri": "https://localhost:8080/"
        },
        "id": "W6d-7Kw-pFwf",
        "outputId": "b59ed27b-c875-47ca-eb7a-e0280717ea56"
      },
      "source": [
        "!zip -r /content/file.zip /content/annotations"
      ],
      "execution_count": null,
      "outputs": [
        {
          "output_type": "stream",
          "text": [
            "  adding: content/annotations/ (stored 0%)\n",
            "  adding: content/annotations/2021-06-15 18:37:21.7295040.txt (deflated 45%)\n",
            "  adding: content/annotations/2021-06-16 09:48:18.5827790.txt (deflated 47%)\n",
            "  adding: content/annotations/2021-06-16 00:52:26.8021150.txt (deflated 49%)\n",
            "  adding: content/annotations/2021-06-16 05:26:24.6541270.txt (deflated 50%)\n",
            "  adding: content/annotations/2021-06-15 21:31:40.3686060.txt (deflated 51%)\n",
            "  adding: content/annotations/2021-06-16 17:52:34.7688600.txt (deflated 49%)\n",
            "  adding: content/annotations/2021-06-15 17:31:50.4800030.txt (deflated 49%)\n",
            "  adding: content/annotations/2021-06-16 06:39:59.0071030.txt (deflated 49%)\n",
            "  adding: content/annotations/2021-06-15 21:55:33.0400410.txt (deflated 45%)\n",
            "  adding: content/annotations/2021-06-15 18:14:55.3117560.txt (deflated 53%)\n",
            "  adding: content/annotations/2021-06-16 00:52:50.2081491.txt (deflated 49%)\n",
            "  adding: content/annotations/2021-06-16 09:39:36.7309960.txt (deflated 48%)\n",
            "  adding: content/annotations/2021-06-15 20:44:53.9262680.txt (deflated 44%)\n",
            "  adding: content/annotations/2021-06-15 22:51:16.2693970.txt (deflated 49%)\n",
            "  adding: content/annotations/2021-06-16 10:07:22.4175050.txt (deflated 44%)\n",
            "  adding: content/annotations/2021-06-16 01:44:28.9602091.txt (deflated 48%)\n",
            "  adding: content/annotations/2021-06-15 16:27:13.4579570.txt (deflated 46%)\n",
            "  adding: content/annotations/2021-06-16 02:42:57.7819101.txt (deflated 45%)\n",
            "  adding: content/annotations/2021-06-16 08:34:25.3651760.txt (deflated 51%)\n",
            "  adding: content/annotations/2021-06-16 07:23:58.5870840.txt (deflated 51%)\n",
            "  adding: content/annotations/2021-06-15 20:43:46.2062450.txt (deflated 52%)\n",
            "  adding: content/annotations/2021-06-16 12:49:05.7019740.txt (deflated 48%)\n",
            "  adding: content/annotations/2021-06-16 00:30:37.1842590.txt (deflated 47%)\n",
            "  adding: content/annotations/2021-06-15 23:27:53.1543150.txt (deflated 53%)\n",
            "  adding: content/annotations/2021-06-16 19:28:12.5799730.txt (deflated 47%)\n",
            "  adding: content/annotations/classes.txt (stored 0%)\n",
            "  adding: content/annotations/2021-06-17 22:31:08.8816480.txt (deflated 47%)\n",
            "  adding: content/annotations/2021-06-16 12:01:25.1785181.txt (deflated 44%)\n",
            "  adding: content/annotations/2021-06-16 01:53:04.2967851.txt (deflated 47%)\n",
            "  adding: content/annotations/2021-06-16 14:23:05.0477100.txt (deflated 50%)\n",
            "  adding: content/annotations/2021-06-16 01:37:39.1233180.txt (deflated 45%)\n",
            "  adding: content/annotations/2021-06-16 18:43:00.6544190.txt (deflated 49%)\n",
            "  adding: content/annotations/2021-06-15 23:25:58.1914151.txt (deflated 47%)\n",
            "  adding: content/annotations/2021-06-17 18:04:41.8271850.txt (deflated 44%)\n",
            "  adding: content/annotations/2021-06-16 03:02:36.9518380.txt (deflated 48%)\n",
            "  adding: content/annotations/2021-06-16 01:54:38.6547660.txt (deflated 50%)\n",
            "  adding: content/annotations/2021-06-16 10:50:57.4336170.txt (deflated 47%)\n",
            "  adding: content/annotations/2021-06-15 21:27:30.4815340.txt (deflated 45%)\n",
            "  adding: content/annotations/2021-06-16 05:11:17.0372440.txt (deflated 49%)\n",
            "  adding: content/annotations/2021-06-15 21:42:43.1217330.txt (deflated 53%)\n",
            "  adding: content/annotations/2021-06-16 05:19:28.8641620.txt (deflated 49%)\n",
            "  adding: content/annotations/2021-06-15 19:28:18.6188520.txt (deflated 45%)\n",
            "  adding: content/annotations/2021-06-15 23:06:05.6252801.txt (deflated 45%)\n",
            "  adding: content/annotations/2021-06-16 04:04:25.2540951.txt (deflated 47%)\n",
            "  adding: content/annotations/2021-06-17 23:49:44.2543020.txt (deflated 48%)\n",
            "  adding: content/annotations/2021-06-16 10:16:19.0921440.txt (deflated 45%)\n",
            "  adding: content/annotations/2021-06-16 05:12:50.8131930.txt (deflated 52%)\n",
            "  adding: content/annotations/2021-06-16 10:43:49.0544890.txt (deflated 44%)\n",
            "  adding: content/annotations/2021-06-15 23:25:58.1914150.txt (deflated 45%)\n",
            "  adding: content/annotations/2021-06-17 21:16:34.7948100.txt (deflated 47%)\n",
            "  adding: content/annotations/2021-06-16 06:43:42.3445970.txt (deflated 51%)\n",
            "  adding: content/annotations/2021-06-16 06:43:42.3445971.txt (deflated 49%)\n",
            "  adding: content/annotations/2021-06-16 05:43:05.5010720.txt (deflated 47%)\n",
            "  adding: content/annotations/2021-06-15 23:09:54.0615870.txt (deflated 48%)\n",
            "  adding: content/annotations/2021-06-16 10:50:00.8550140.txt (deflated 47%)\n",
            "  adding: content/annotations/2021-06-17 21:02:25.0037540.txt (deflated 48%)\n",
            "  adding: content/annotations/2021-06-15 22:40:57.2146750.txt (deflated 51%)\n",
            "  adding: content/annotations/2021-06-15 16:08:34.9233360.txt (deflated 46%)\n",
            "  adding: content/annotations/2021-06-15 23:27:07.1829530.txt (deflated 51%)\n",
            "  adding: content/annotations/2021-06-16 04:33:44.9364830.txt (deflated 49%)\n",
            "  adding: content/annotations/2021-06-16 09:02:13.3330440.txt (deflated 52%)\n",
            "  adding: content/annotations/2021-06-15 1608:34.9233360.txt (deflated 46%)\n",
            "  adding: content/annotations/2021-06-16 04:07:01.1854630.txt (deflated 45%)\n",
            "  adding: content/annotations/2021-06-16 06:14:38.8509871.txt (deflated 49%)\n",
            "  adding: content/annotations/2021-06-15 17:00:36.9445770.txt (deflated 48%)\n",
            "  adding: content/annotations/2021-06-16 04:09:14.7747520.txt (deflated 46%)\n",
            "  adding: content/annotations/2021-06-16 00:52:26.8021151.txt (deflated 47%)\n",
            "  adding: content/annotations/2021-06-15 22:22:09.6097760.txt (deflated 49%)\n",
            "  adding: content/annotations/2021-06-16 10:39:15.0551691.txt (deflated 47%)\n",
            "  adding: content/annotations/2021-06-16 07:30:52.7104060.txt (deflated 49%)\n",
            "  adding: content/annotations/2021-06-16 10:21:58.5228580.txt (deflated 53%)\n",
            "  adding: content/annotations/2021-06-16 14:30:59.4931930.txt (deflated 51%)\n",
            "  adding: content/annotations/2021-06-15 21:35:47.1377730.txt (deflated 48%)\n",
            "  adding: content/annotations/2021-06-16 06:11:14.9049761.txt (deflated 49%)\n",
            "  adding: content/annotations/2021-06-15 18:59:45.6811920.txt (deflated 53%)\n",
            "  adding: content/annotations/2021-06-16 00:03:37.7039510.txt (deflated 50%)\n",
            "  adding: content/annotations/2021-06-15 23:59:26.9447130.txt (deflated 49%)\n",
            "  adding: content/annotations/2021-06-15 23:49:49.3883020.txt (deflated 50%)\n",
            "  adding: content/annotations/2021-06-16 02:43:10.1175360.txt (deflated 49%)\n",
            "  adding: content/annotations/2021-06-16 17:55:27.7582460.txt (deflated 47%)\n",
            "  adding: content/annotations/2021-06-16 05:39:13.6307710.txt (deflated 46%)\n",
            "  adding: content/annotations/2021-06-16 05:26:24.6541271.txt (deflated 52%)\n",
            "  adding: content/annotations/2021-06-16 00:42:22.9549960.txt (deflated 47%)\n",
            "  adding: content/annotations/2021-06-16 14:27:24.8270510.txt (deflated 49%)\n",
            "  adding: content/annotations/2021-06-16 10:39:15.0551690.txt (deflated 51%)\n",
            "  adding: content/annotations/2021-06-16 02:42:57.7819100.txt (deflated 48%)\n",
            "  adding: content/annotations/2021-06-17 05:30:23.0922920.txt (deflated 44%)\n",
            "  adding: content/annotations/2021-06-16 17:19:49.0346670.txt (deflated 44%)\n",
            "  adding: content/annotations/2021-06-16 18:29:48.0695870.txt (deflated 47%)\n",
            "  adding: content/annotations/2021-06-15 22:23:25.4765480.txt (deflated 47%)\n",
            "  adding: content/annotations/2021-06-16 23:06:25.1183400.txt (deflated 48%)\n",
            "  adding: content/annotations/2021-06-15 23:54:01.6022440.txt (deflated 49%)\n",
            "  adding: content/annotations/2021-06-16 06:27:45.4393640.txt (deflated 46%)\n",
            "  adding: content/annotations/2021-06-16 02:51:26.6905560.txt (deflated 45%)\n",
            "  adding: content/annotations/2021-06-15 23:34:33.7547320.txt (deflated 49%)\n",
            "  adding: content/annotations/2021-06-16 10:37:41.0465630.txt (deflated 46%)\n",
            "  adding: content/annotations/2021-06-15 23:06:05.6252800.txt (deflated 49%)\n",
            "  adding: content/annotations/2021-06-15 16:42:22.4434930.txt (deflated 47%)\n",
            "  adding: content/annotations/2021-06-17 18:38:06.3751240.txt (deflated 47%)\n",
            "  adding: content/annotations/2021-06-16 05:49:22.9926280.txt (deflated 47%)\n",
            "  adding: content/annotations/2021-06-16 08:57:01.0234571.txt (deflated 46%)\n",
            "  adding: content/annotations/2021-06-17 23:34:41.9430650.txt (deflated 51%)\n",
            "  adding: content/annotations/2021-06-16 18:44:11.1935160.txt (deflated 46%)\n",
            "  adding: content/annotations/2021-06-17 03:05:42.0938440.txt (deflated 50%)\n",
            "  adding: content/annotations/2021-06-15 17:55:19.9544721.txt (deflated 51%)\n",
            "  adding: content/annotations/2021-06-16 18:57:11.0846460.txt (deflated 46%)\n",
            "  adding: content/annotations/2021-06-16 10:43:49.0544891.txt (deflated 53%)\n",
            "  adding: content/annotations/2021-06-16 08:45:32.2922280.txt (deflated 52%)\n",
            "  adding: content/annotations/2021-06-15 22:18:03.0141210.txt (deflated 50%)\n",
            "  adding: content/annotations/2021-06-16 05:29:37.6621440.txt (deflated 51%)\n",
            "  adding: content/annotations/2021-06-15 23:06:55.6332490.txt (deflated 47%)\n",
            "  adding: content/annotations/2021-06-15 20:45:47.9889050.txt (deflated 47%)\n",
            "  adding: content/annotations/2021-06-16 07:30:52.7104061.txt (deflated 49%)\n",
            "  adding: content/annotations/2021-06-15 18:16:40.7234330.txt (deflated 48%)\n",
            "  adding: content/annotations/2021-06-16 17:32:17.7322440.txt (deflated 49%)\n",
            "  adding: content/annotations/2021-06-16 12:58:53.4853700.txt (deflated 47%)\n",
            "  adding: content/annotations/2021-06-17 02:58:06.1514640.txt (deflated 46%)\n",
            "  adding: content/annotations/2021-06-16 10:07:22.4175051.txt (deflated 45%)\n",
            "  adding: content/annotations/2021-06-15 20:43:46.2062451.txt (deflated 49%)\n",
            "  adding: content/annotations/2021-06-16 05:56:47.6274190.txt (deflated 53%)\n",
            "  adding: content/annotations/2021-06-17 01:11:22.3322570.txt (deflated 51%)\n",
            "  adding: content/annotations/2021-06-16 05:44:12.6651570.txt (deflated 49%)\n",
            "  adding: content/annotations/2021-06-16 01:44:28.9602090.txt (deflated 46%)\n",
            "  adding: content/annotations/2021-06-16 19:10:27.5853100.txt (deflated 46%)\n",
            "  adding: content/annotations/2021-06-16 19:13:10.6613660.txt (deflated 49%)\n",
            "  adding: content/annotations/2021-06-15 22:57:00.9374550.txt (deflated 51%)\n",
            "  adding: content/annotations/2021-06-15 19:30:14.0494150.txt (deflated 47%)\n",
            "  adding: content/annotations/2021-06-15 20:45:33.0968340.txt (deflated 46%)\n",
            "  adding: content/annotations/2021-06-16 04:29:48.4249290.txt (deflated 47%)\n",
            "  adding: content/annotations/2021-06-15 22:29:31.7838620.txt (deflated 48%)\n",
            "  adding: content/annotations/2021-06-16 17:38:27.7910950.txt (deflated 50%)\n",
            "  adding: content/annotations/2021-06-16 05:59:06.1403760.txt (deflated 49%)\n",
            "  adding: content/annotations/2021-06-16 04:49:34.3563571.txt (deflated 45%)\n",
            "  adding: content/annotations/2021-06-16 12:02:49.4734980.txt (deflated 52%)\n",
            "  adding: content/annotations/2021-06-15 20:45:33.0968341.txt (deflated 45%)\n",
            "  adding: content/annotations/2021-06-15 22:50:58.1081670.txt (deflated 50%)\n",
            "  adding: content/annotations/2021-06-16 02:43:10.1175361.txt (deflated 48%)\n",
            "  adding: content/annotations/2021-06-16 14:29:56.2772121.txt (deflated 49%)\n",
            "  adding: content/annotations/2021-06-17 03:18:33.5508250.txt (deflated 46%)\n",
            "  adding: content/annotations/2021-06-16 00:30:37.1842591.txt (deflated 51%)\n",
            "  adding: content/annotations/2021-06-17 14:48:45.9942370.txt (deflated 44%)\n",
            "  adding: content/annotations/2021-06-16 06:33:26.8881600.txt (deflated 48%)\n",
            "  adding: content/annotations/2021-06-15 19:10:44.4603030.txt (deflated 49%)\n",
            "  adding: content/annotations/2021-06-15 23:46:54.7337710.txt (deflated 47%)\n",
            "  adding: content/annotations/2021-06-17 20:46:31.0484900.txt (deflated 48%)\n",
            "  adding: content/annotations/2021-06-15 18:50:41.0186570.txt (deflated 49%)\n",
            "  adding: content/annotations/2021-06-15 16:42:35.8368270.txt (deflated 45%)\n",
            "  adding: content/annotations/2021-06-16 05:19:28.8641621.txt (deflated 47%)\n",
            "  adding: content/annotations/2021-06-17 04:24:05.8524800.txt (deflated 51%)\n",
            "  adding: content/annotations/2021-06-16 13:40:38.3028610.txt (deflated 50%)\n",
            "  adding: content/annotations/2021-06-15 22:03:03.9955270.txt (deflated 56%)\n",
            "  adding: content/annotations/2021-06-15 23:14:42.5579470.txt (deflated 48%)\n",
            "  adding: content/annotations/2021-06-16 01:53:04.2967850.txt (deflated 49%)\n",
            "  adding: content/annotations/2021-06-17 21:59:59.2030960.txt (deflated 47%)\n",
            "  adding: content/annotations/2021-06-16 04:50:18.7356160.txt (deflated 48%)\n",
            "  adding: content/annotations/2021-06-15 18:14:43.8410510.txt (deflated 44%)\n",
            "  adding: content/annotations/2021-06-16 04:35:52.0186340.txt (deflated 47%)\n",
            "  adding: content/annotations/2021-06-17 03:44:30.6148910.txt (deflated 47%)\n",
            "  adding: content/annotations/2021-06-16 05:49:40.9591000.txt (deflated 49%)\n",
            "  adding: content/annotations/2021-06-15 23:49:20.6896800.txt (deflated 46%)\n",
            "  adding: content/annotations/2021-06-15 16:46:21.5544250.txt (deflated 49%)\n",
            "  adding: content/annotations/2021-06-16 00:09:29.2002600.txt (deflated 49%)\n",
            "  adding: content/annotations/2021-06-15 22:30:16.4635260.txt (deflated 46%)\n",
            "  adding: content/annotations/2021-06-15 23:25:15.9805840.txt (deflated 46%)\n",
            "  adding: content/annotations/2021-06-16 10:55:52.5173240.txt (deflated 44%)\n",
            "  adding: content/annotations/2021-06-16 05:43:05.5010721.txt (deflated 50%)\n",
            "  adding: content/annotations/2021-06-16 12:00:41.9834660.txt (deflated 51%)\n",
            "  adding: content/annotations/2021-06-16 00:52:50.2081490.txt (deflated 49%)\n",
            "  adding: content/annotations/2021-06-17 21:37:56.4027880.txt (deflated 49%)\n",
            "  adding: content/annotations/2021-06-17 20:47:40.0022880.txt (deflated 50%)\n",
            "  adding: content/annotations/2021-06-16 14:29:56.2772120.txt (deflated 50%)\n",
            "  adding: content/annotations/2021-06-16 07:23:58.5870841.txt (deflated 45%)\n",
            "  adding: content/annotations/2021-06-16 11:13:18.9425030.txt (deflated 49%)\n",
            "  adding: content/annotations/2021-06-16 10:44:54.3624710.txt (deflated 45%)\n",
            "  adding: content/annotations/2021-06-15 20:43:58.3523450.txt (deflated 44%)\n",
            "  adding: content/annotations/2021-06-16 08:57:01.0234570.txt (deflated 44%)\n",
            "  adding: content/annotations/2021-06-16 09:13:15.9679260.txt (deflated 53%)\n",
            "  adding: content/annotations/2021-06-16 12:49:05.7019741.txt (deflated 49%)\n",
            "  adding: content/annotations/2021-06-15 23:49:11.2266530.txt (deflated 49%)\n",
            "  adding: content/annotations/2021-06-15 17:55:19.9544720.txt (deflated 47%)\n",
            "  adding: content/annotations/2021-06-16 04:04:25.2540950.txt (deflated 50%)\n",
            "  adding: content/annotations/2021-06-16 05:56:25.0361090.txt (deflated 51%)\n",
            "  adding: content/annotations/2021-06-16 01:09:49.7874560.txt (deflated 48%)\n",
            "  adding: content/annotations/2021-06-17 03:15:54.3276910.txt (deflated 49%)\n",
            "  adding: content/annotations/2021-06-16 03:55:04.8753400.txt (deflated 46%)\n",
            "  adding: content/annotations/2021-06-17 03:29:34.6610540.txt (deflated 48%)\n",
            "  adding: content/annotations/2021-06-17 04:02:34.2614530.txt (deflated 45%)\n",
            "  adding: content/annotations/2021-06-16 09:01:12.0991700.txt (deflated 47%)\n",
            "  adding: content/annotations/2021-06-15 23:41:11.3866730.txt (deflated 44%)\n",
            "  adding: content/annotations/2021-06-15 20:01:21.7747560.txt (deflated 45%)\n",
            "  adding: content/annotations/2021-06-15 18:04:51.3339120.txt (deflated 51%)\n",
            "  adding: content/annotations/2021-06-16 06:14:38.8509870.txt (deflated 52%)\n",
            "  adding: content/annotations/2021-06-17 22:59:52.6490690.txt (deflated 46%)\n",
            "  adding: content/annotations/2021-06-16 08:57:42.1390920.txt (deflated 50%)\n",
            "  adding: content/annotations/2021-06-16 12:01:25.1785180.txt (deflated 47%)\n",
            "  adding: content/annotations/2021-06-15 20:45:47.9889051.txt (deflated 48%)\n",
            "  adding: content/annotations/2021-06-16 14:08:14.2101600.txt (deflated 44%)\n",
            "  adding: content/annotations/2021-06-17 02:25:51.2332140.txt (deflated 49%)\n",
            "  adding: content/annotations/2021-06-16 08:59:56.1161610.txt (deflated 45%)\n",
            "  adding: content/annotations/2021-06-16 00:14:51.6749020.txt (deflated 48%)\n",
            "  adding: content/annotations/2021-06-16 17:35:25.0581270.txt (deflated 50%)\n",
            "  adding: content/annotations/2021-06-16 04:05:26.5198560.txt (deflated 45%)\n",
            "  adding: content/annotations/2021-06-16 05:02:28.8403620.txt (deflated 49%)\n",
            "  adding: content/annotations/2021-06-16 11:10:06.2367260.txt (deflated 51%)\n",
            "  adding: content/annotations/2021-06-16 04:49:34.3563570.txt (deflated 47%)\n",
            "  adding: content/annotations/2021-06-15 17:51:51.5410960.txt (deflated 45%)\n",
            "  adding: content/annotations/2021-06-16 20:14:54.4202090.txt (deflated 52%)\n",
            "  adding: content/annotations/2021-06-16 00:23:53.3658430.txt (deflated 50%)\n",
            "  adding: content/annotations/2021-06-16 18:30:55.9271210.txt (deflated 47%)\n",
            "  adding: content/annotations/2021-06-16 19:48:20.4455790.txt (deflated 53%)\n",
            "  adding: content/annotations/2021-06-16 05:49:51.8008800.txt (deflated 45%)\n",
            "  adding: content/annotations/2021-06-15 23:51:32.6068340.txt (deflated 50%)\n",
            "  adding: content/annotations/2021-06-16 06:11:14.9049760.txt (deflated 45%)\n",
            "  adding: content/annotations/2021-06-16 19:53:13.5794740.txt (deflated 47%)\n",
            "  adding: content/annotations/2021-06-17 22:15:35.9905090.txt (deflated 48%)\n",
            "  adding: content/annotations/2021-06-17 00:11:19.4006940.txt (deflated 47%)\n"
          ],
          "name": "stdout"
        }
      ]
    },
    {
      "cell_type": "code",
      "metadata": {
        "id": "r-_xnDxqqvzU"
      },
      "source": [
        ""
      ],
      "execution_count": null,
      "outputs": []
    }
  ]
}